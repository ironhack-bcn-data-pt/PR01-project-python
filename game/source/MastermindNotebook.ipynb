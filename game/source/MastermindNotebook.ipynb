{
 "cells": [
  {
   "cell_type": "markdown",
   "metadata": {},
   "source": [
    "# Mastermind"
   ]
  },
  {
   "cell_type": "markdown",
   "metadata": {},
   "source": [
    "## Libraries to import"
   ]
  },
  {
   "cell_type": "code",
   "execution_count": null,
   "metadata": {
    "ExecuteTime": {
     "end_time": "2020-08-16T16:54:25.813188Z",
     "start_time": "2020-08-16T16:54:25.807505Z"
    }
   },
   "outputs": [],
   "source": [
    "from random import choice"
   ]
  },
  {
   "cell_type": "markdown",
   "metadata": {},
   "source": [
    "## Inputs"
   ]
  },
  {
   "cell_type": "code",
   "execution_count": null,
   "metadata": {
    "ExecuteTime": {
     "end_time": "2020-08-16T16:54:33.459170Z",
     "start_time": "2020-08-16T16:54:33.447302Z"
    }
   },
   "outputs": [],
   "source": [
    "colours = ['B', 'G', 'R', 'Y', 'W', 'P']\n",
    "level = 4"
   ]
  },
  {
   "cell_type": "markdown",
   "metadata": {},
   "source": [
    "## Generate the code"
   ]
  },
  {
   "cell_type": "code",
   "execution_count": null,
   "metadata": {
    "ExecuteTime": {
     "end_time": "2020-08-16T16:54:33.907452Z",
     "start_time": "2020-08-16T16:54:33.901668Z"
    }
   },
   "outputs": [],
   "source": [
    "def generate(colours, level):\n",
    "    code = []\n",
    "    for i in range(level):\n",
    "        code.append(choice(colours))\n",
    "    return code"
   ]
  },
  {
   "cell_type": "code",
   "execution_count": null,
   "metadata": {
    "ExecuteTime": {
     "end_time": "2020-08-16T16:54:34.138259Z",
     "start_time": "2020-08-16T16:54:34.132430Z"
    }
   },
   "outputs": [],
   "source": [
    "code = generate(colours, level)"
   ]
  },
  {
   "cell_type": "markdown",
   "metadata": {},
   "source": [
    "## User input"
   ]
  },
  {
   "cell_type": "code",
   "execution_count": null,
   "metadata": {
    "ExecuteTime": {
     "end_time": "2020-08-16T16:55:17.358154Z",
     "start_time": "2020-08-16T16:55:01.129709Z"
    }
   },
   "outputs": [],
   "source": [
    "while True:\n",
    "\n",
    "    ok = True\n",
    "    usercode = input('Tell me a code: ')\n",
    "    \n",
    "    usercode = usercode.upper()\n",
    "    \n",
    "    # Check the length of the code:\n",
    "\n",
    "    if len(usercode) > level:\n",
    "        ok = False\n",
    "        print(f'You have introduced more colours than {level}')\n",
    "        \n",
    "    elif len(usercode) < level:\n",
    "        ok = False\n",
    "        print(f'You have introduced less colours than {level}')\n",
    "    else:\n",
    "        \n",
    "        # Check that the colours are inside the predefined ones\n",
    "        for letter in usercode:\n",
    "            if letter not in colours:\n",
    "                ok = False\n",
    "                print(f'\\x1b[0;37;41m {letter} does not belong to the colour code {colours}\\n \\x1b[0m')\n",
    "\n",
    "    if ok:\n",
    "        break\n",
    "            "
   ]
  },
  {
   "cell_type": "markdown",
   "metadata": {},
   "source": [
    "## Check"
   ]
  },
  {
   "cell_type": "code",
   "execution_count": null,
   "metadata": {
    "ExecuteTime": {
     "end_time": "2020-08-16T16:52:04.805235Z",
     "start_time": "2020-08-16T16:52:04.781506Z"
    }
   },
   "outputs": [],
   "source": [
    "def check(usercode, code):\n",
    "    \n",
    "    # contadores\n",
    "    bulls = len([i for i,j in zip(usercode, code) if i == j])\n",
    "    cows = len([i for i in usercode if i in code]) - bulls\n",
    "    \n",
    "    if cows < 0:\n",
    "        cows = 0\n",
    "\n",
    "    if bulls == level:\n",
    "        return 1\n",
    "    else:\n",
    "        print(f'cows = {cows} bulls={bulls}')\n",
    "        return 0\n",
    "    "
   ]
  },
  {
   "cell_type": "markdown",
   "metadata": {
    "ExecuteTime": {
     "end_time": "2020-07-10T06:10:02.736603Z",
     "start_time": "2020-07-10T06:10:02.727414Z"
    }
   },
   "source": [
    "## Classes"
   ]
  },
  {
   "cell_type": "code",
   "execution_count": null,
   "metadata": {
    "ExecuteTime": {
     "end_time": "2020-08-16T16:54:11.868530Z",
     "start_time": "2020-08-16T16:54:11.850979Z"
    }
   },
   "outputs": [],
   "source": [
    "class Player():\n",
    "    def __init__(self, level = 4, colours = ['B', 'G', 'R', 'Y', 'W', 'P']): #mode='auto'):\n",
    "        #self.mode = mode\n",
    "        self.level = level\n",
    "        self.colours = colours\n",
    "        self.combinations = []\n",
    "\n",
    "    \n",
    "    \n",
    "    def generate(self):\n",
    "        code = []\n",
    "        for i in range(self.level):\n",
    "            code.append(choice(self.colours))\n",
    "        self.code = code\n",
    "        \n",
    "\n",
    "    def guess(self):\n",
    "        while True:\n",
    "\n",
    "            ok = True\n",
    "            usercode = input('\\nTell me a code: ')\n",
    "            \n",
    "            # Do not differentiate between lower and upper cases:\n",
    "            usercode = usercode.upper()\n",
    "\n",
    "            # Check the length of the code:\n",
    "\n",
    "            if len(usercode) > self.level:\n",
    "                ok = False\n",
    "                print(f'You have introduced more colours than {self.level}\\n')\n",
    "\n",
    "            elif len(usercode) < self.level:\n",
    "                ok = False\n",
    "                print(f'You have introduced less colours than {self.level}\\n')\n",
    "            else:\n",
    "\n",
    "                # Check that the colours are inside the predefined ones\n",
    "                for letter in usercode:\n",
    "                    if letter not in self.colours:\n",
    "                        ok = False\n",
    "                        print(f'\\x1b[0;37;41m {letter} does not belong to the colour code {self.colours}\\n \\x1b[0m')\n",
    "\n",
    "            if ok:\n",
    "                break\n",
    "                \n",
    "        return usercode\n",
    "    \n",
    "    def check(self, usercode):\n",
    "    \n",
    "        # Counters\n",
    "        self.bulls = len([i for i,j in zip(usercode, self.code) if i == j])\n",
    "        self.cows = len([i for i in usercode if i in self.code]) - self.bulls\n",
    "\n",
    "        if self.cows < 0:\n",
    "            self.cows = 0\n",
    "\n",
    "        if self.bulls == self.level:\n",
    "            return 1\n",
    "        else:\n",
    "            print(f'cows = {self.cows} bulls={self.bulls}')\n",
    "            return 0"
   ]
  },
  {
   "cell_type": "code",
   "execution_count": null,
   "metadata": {
    "ExecuteTime": {
     "end_time": "2020-08-16T16:54:14.957879Z",
     "start_time": "2020-08-16T16:54:14.936153Z"
    }
   },
   "outputs": [],
   "source": [
    "class Game:\n",
    "    def __init__(self):\n",
    "        self.name = '--------     Welcome to mastermind     --------\\n'\n",
    "        self.description = '''You need to guess the colour code I have thought of...\\n\\nHere there are some indications:\n",
    "        COWS = number of correct colours but not in the good place\n",
    "        BULLS = number of correct colours and in the right place\\n'''\n",
    "        self.levelinstructions = '''You need to introduce your level. The options are:\n",
    "        - easy : combination of 3 colours and between 4 colours\n",
    "        - medium: combination of 4 colours and between 6 colours\n",
    "        - advance: combination of 5 colours and between 6 colours\\n'''\n",
    "        self.easy = 'The colours are B, G and R\\n'\n",
    "        self.medium = 'The colours are B, G, R, Y, W and P\\n'\n",
    "\n",
    "    def setlevel(self):\n",
    "\n",
    "        while True:\n",
    "            level = input('Introduce the level: ')\n",
    "\n",
    "            if level == 'easy':\n",
    "                self.colours = ['B', 'G', 'R']\n",
    "                self.level = 3\n",
    "                print(self.easy)\n",
    "                break\n",
    "            elif level == 'medium':\n",
    "                self.colours = ['B', 'G', 'R', 'Y', 'W', 'P']\n",
    "                self.level = 4\n",
    "                print(self.medium)\n",
    "                break\n",
    "            elif level == 'advance':\n",
    "                self.colours = ['B', 'G', 'R', 'Y', 'W', 'P']\n",
    "                self.level = 5\n",
    "                print(self.medium)\n",
    "                break\n",
    "            else:\n",
    "                print('\\x1b[0;37;41m' + 'The level must be easy, medium or advance \\n' + '\\x1b[0m')\n",
    "\n",
    "\n",
    "    def play(self):\n",
    "\n",
    "        p = Player(self.level, self.colours)\n",
    "        \n",
    "        # generate the code to guess\n",
    "        p.generate()\n",
    "\n",
    "        # tries counter\n",
    "        self.tries = 0\n",
    "\n",
    "        while True:\n",
    "            self.tries += 1\n",
    "            usercode = p.guess()\n",
    "            p.check(usercode)\n",
    "\n",
    "            # add the combination and the number of cows and bulls to show it \n",
    "            # next time if it was not right\n",
    "            p.combinations.append([usercode, p.cows, p.bulls])\n",
    "\n",
    "            # check if the input combination is the same as the original one, \n",
    "            # if so game has ended\n",
    "            if ''.join(p.code) == usercode:\n",
    "                print(f'Congratulations, you have guessed the code in {self.tries} tries!!')\n",
    "                break\n",
    "\n",
    "            # show the previous combinations and cows&bulls\n",
    "            print('\\nPrevious combinations tried:')\n",
    "            print('Combinations | Cows | Bulls')\n",
    "            for comb in p.combinations:\n",
    "                print(f'{comb[0]}\\t     | {comb[1]}    | {comb[2]}')"
   ]
  },
  {
   "cell_type": "markdown",
   "metadata": {
    "ExecuteTime": {
     "end_time": "2020-07-10T07:21:29.283915Z",
     "start_time": "2020-07-10T07:21:29.277488Z"
    }
   },
   "source": [
    "## Game"
   ]
  },
  {
   "cell_type": "code",
   "execution_count": null,
   "metadata": {
    "ExecuteTime": {
     "end_time": "2020-08-16T16:54:18.229376Z",
     "start_time": "2020-08-16T16:54:15.897787Z"
    }
   },
   "outputs": [],
   "source": [
    "game = Game()\n",
    "print(game.name)\n",
    "print(game.description)\n",
    "print(game.levelinstructions)\n",
    "# set level\n",
    "game.setlevel()\n",
    "\n",
    "while True:\n",
    "    game.play()\n",
    "    if input('Do you want to play again? (y|n)') != 'y':\n",
    "        break"
   ]
  },
  {
   "cell_type": "code",
   "execution_count": null,
   "metadata": {},
   "outputs": [],
   "source": []
  }
 ],
 "metadata": {
  "kernelspec": {
   "display_name": "Python 3",
   "language": "python",
   "name": "python3"
  },
  "language_info": {
   "codemirror_mode": {
    "name": "ipython",
    "version": 3
   },
   "file_extension": ".py",
   "mimetype": "text/x-python",
   "name": "python",
   "nbconvert_exporter": "python",
   "pygments_lexer": "ipython3",
   "version": "3.7.6"
  },
  "toc": {
   "base_numbering": 1,
   "nav_menu": {},
   "number_sections": true,
   "sideBar": true,
   "skip_h1_title": false,
   "title_cell": "Table of Contents",
   "title_sidebar": "Contents",
   "toc_cell": false,
   "toc_position": {},
   "toc_section_display": true,
   "toc_window_display": false
  },
  "varInspector": {
   "cols": {
    "lenName": 16,
    "lenType": 16,
    "lenVar": 40
   },
   "kernels_config": {
    "python": {
     "delete_cmd_postfix": "",
     "delete_cmd_prefix": "del ",
     "library": "var_list.py",
     "varRefreshCmd": "print(var_dic_list())"
    },
    "r": {
     "delete_cmd_postfix": ") ",
     "delete_cmd_prefix": "rm(",
     "library": "var_list.r",
     "varRefreshCmd": "cat(var_dic_list()) "
    }
   },
   "types_to_exclude": [
    "module",
    "function",
    "builtin_function_or_method",
    "instance",
    "_Feature"
   ],
   "window_display": false
  }
 },
 "nbformat": 4,
 "nbformat_minor": 4
}
