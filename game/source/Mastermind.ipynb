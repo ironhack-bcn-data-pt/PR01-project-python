{
 "cells": [
  {
   "cell_type": "code",
   "execution_count": 1,
   "metadata": {
    "ExecuteTime": {
     "end_time": "2020-07-10T15:45:52.511763Z",
     "start_time": "2020-07-10T15:45:52.503072Z"
    }
   },
   "outputs": [],
   "source": [
    "from mastermindgame import Game"
   ]
  },
  {
   "cell_type": "code",
   "execution_count": 2,
   "metadata": {
    "ExecuteTime": {
     "end_time": "2020-07-10T15:46:47.737214Z",
     "start_time": "2020-07-10T15:46:20.266650Z"
    }
   },
   "outputs": [
    {
     "name": "stdout",
     "output_type": "stream",
     "text": [
      "--------     Welcome to mastermind     --------\n",
      "\n",
      "You need to guess the colour code I have thought of...\n",
      "\n",
      "Here there are some indications:\n",
      "        COWS = number of correct colours but not in the good place\n",
      "    \tBULLS = number of correct colours and in the right place\n",
      "\n",
      "You need to introduce your level. The options are:\n",
      "        - easy : combination of 3 colours and between 4 colours\n",
      "        - medium: combination of 4 colours and between 6 colours\n",
      "        - advance: combination of 5 colours and between 6 colours\n",
      "\n",
      "Introduce the level: easy\n",
      "The colours are B, G and R\n",
      "\n",
      "\n",
      "Tell me a code: BGR\n",
      "cows = 3 bulls=0\n",
      "\n",
      "Tell me a code: GRB\n",
      "cows = 3 bulls=0\n",
      "\n",
      "Tell me a code: RBG\n",
      "Congratulations, you have guessed the code in 3 tries!!\n",
      "Do you want to play again? (y|n)n\n"
     ]
    }
   ],
   "source": [
    "game = Game()\n",
    "print(game.name)\n",
    "print(game.description)\n",
    "print(game.levelinstructions)\n",
    "# set level\n",
    "game.setlevel()\n",
    "\n",
    "\n",
    "while True:\n",
    "    game.play()\n",
    "    if input('Do you want to play again? (y|n)') != 'y':\n",
    "        break"
   ]
  },
  {
   "cell_type": "code",
   "execution_count": null,
   "metadata": {},
   "outputs": [],
   "source": []
  }
 ],
 "metadata": {
  "kernelspec": {
   "display_name": "Python 3",
   "language": "python",
   "name": "python3"
  },
  "language_info": {
   "codemirror_mode": {
    "name": "ipython",
    "version": 3
   },
   "file_extension": ".py",
   "mimetype": "text/x-python",
   "name": "python",
   "nbconvert_exporter": "python",
   "pygments_lexer": "ipython3",
   "version": "3.7.6"
  },
  "varInspector": {
   "cols": {
    "lenName": 16,
    "lenType": 16,
    "lenVar": 40
   },
   "kernels_config": {
    "python": {
     "delete_cmd_postfix": "",
     "delete_cmd_prefix": "del ",
     "library": "var_list.py",
     "varRefreshCmd": "print(var_dic_list())"
    },
    "r": {
     "delete_cmd_postfix": ") ",
     "delete_cmd_prefix": "rm(",
     "library": "var_list.r",
     "varRefreshCmd": "cat(var_dic_list()) "
    }
   },
   "types_to_exclude": [
    "module",
    "function",
    "builtin_function_or_method",
    "instance",
    "_Feature"
   ],
   "window_display": false
  }
 },
 "nbformat": 4,
 "nbformat_minor": 4
}
