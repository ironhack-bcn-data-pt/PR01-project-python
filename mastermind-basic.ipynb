{
 "cells": [
  {
   "cell_type": "markdown",
   "metadata": {},
   "source": [
    "## Mastermind - TheMix!"
   ]
  },
  {
   "cell_type": "code",
   "execution_count": 1,
   "metadata": {},
   "outputs": [],
   "source": [
    "import random "
   ]
  },
  {
   "cell_type": "code",
   "execution_count": 2,
   "metadata": {},
   "outputs": [
    {
     "name": "stdout",
     "output_type": "stream",
     "text": [
      "\n",
      "Welcome to 'Mastermind - Revisited!\n",
      "Codemaker [CM] vs CodeBreaker [CB]\n",
      " \n"
     ]
    }
   ],
   "source": [
    "print(\"\\nWelcome to 'Mastermind - Revisited!\")\n",
    "print(\"Codemaker [CM] vs CodeBreaker [CB]\\n \")"
   ]
  },
  {
   "cell_type": "markdown",
   "metadata": {},
   "source": [
    "#### Number of games"
   ]
  },
  {
   "cell_type": "code",
   "execution_count": 3,
   "metadata": {},
   "outputs": [
    {
     "name": "stdin",
     "output_type": "stream",
     "text": [
      "Please, choose the number of games you want to play:  3\n"
     ]
    },
    {
     "name": "stdout",
     "output_type": "stream",
     "text": [
      "Please, choose an odd number of games\n"
     ]
    },
    {
     "name": "stdin",
     "output_type": "stream",
     "text": [
      "Please, choose the number of games you want to play:  w\n"
     ]
    },
    {
     "name": "stdout",
     "output_type": "stream",
     "text": [
      "Please, insert a valid value!\n"
     ]
    },
    {
     "name": "stdin",
     "output_type": "stream",
     "text": [
      "Please, choose the number of games you want to play:  2\n"
     ]
    }
   ],
   "source": [
    "# max number of games\n",
    "max_games = 10\n",
    "\n",
    "while True:\n",
    "    try:\n",
    "        game = int(input('Please, choose the number of games you want to play: '))\n",
    "    except:\n",
    "        print('Please, insert a valid value!')\n",
    "    \n",
    "    else:\n",
    "        if game%2 == 0: \n",
    "            break\n",
    "        else:\n",
    "            print ('Please, choose an odd number of games') "
   ]
  },
  {
   "cell_type": "markdown",
   "metadata": {},
   "source": [
    "#### Level"
   ]
  },
  {
   "cell_type": "code",
   "execution_count": 4,
   "metadata": {},
   "outputs": [
    {
     "name": "stdin",
     "output_type": "stream",
     "text": [
      "Choose the difficulty of the game: EASY [1], NORMAL [2], ADVANCED [3]: \n",
      " 2\n"
     ]
    },
    {
     "name": "stdout",
     "output_type": "stream",
     "text": [
      "Level: NORMAL\n",
      "4 digits code \n",
      "\n"
     ]
    }
   ],
   "source": [
    "level = int(input('Choose the difficulty of the game: EASY [1], NORMAL [2], ADVANCED [3]: \\n'))\n",
    "\n",
    "if level == 1:\n",
    "    ndigit = 3\n",
    "    print('Level: EASY')\n",
    "elif level == 2:\n",
    "    ndigit = 4\n",
    "    print('Level: NORMAL')\n",
    "else:\n",
    "    ndigit = 5\n",
    "    print('Level: ADVANCED')\n",
    "    \n",
    "# print(level)\n",
    "print('{} digits code \\n'.format(ndigit))"
   ]
  },
  {
   "cell_type": "markdown",
   "metadata": {},
   "source": [
    "#### Max number of attempts"
   ]
  },
  {
   "cell_type": "code",
   "execution_count": 5,
   "metadata": {},
   "outputs": [
    {
     "name": "stdin",
     "output_type": "stream",
     "text": [
      "Maximum number of attempts in a game (8,10,12):  8\n"
     ]
    }
   ],
   "source": [
    "# Number of attempts (8/10/12)\n",
    "while True:\n",
    "    try:\n",
    "        max_attempts = int(input('Maximum number of attempts in a game (8,10,12): '))\n",
    "    except ValueError:\n",
    "        print('Please, insert a valid value!') \n",
    "    else: \n",
    "        if max_attempts == 8:\n",
    "            break\n",
    "        if max_attempts == 10:\n",
    "            break\n",
    "        if max_attempts == 12:\n",
    "            break\n",
    "        else:\n",
    "            print ('Please, choose a number of attempts between 8 and 12')"
   ]
  },
  {
   "cell_type": "markdown",
   "metadata": {},
   "source": [
    "#### Codemaker"
   ]
  },
  {
   "cell_type": "code",
   "execution_count": 6,
   "metadata": {},
   "outputs": [
    {
     "name": "stdout",
     "output_type": "stream",
     "text": [
      "\n",
      "CODEMAKER\n",
      "Codemaker code: 5011\n"
     ]
    }
   ],
   "source": [
    "print('\\nCODEMAKER')\n",
    "code_maker = ''\n",
    "\n",
    "for i in range(ndigit):\n",
    "    choice = str(random.randint(0,9))\n",
    "    code_maker +=choice\n",
    "     \n",
    "print(f'Codemaker code: {code_maker}')\n",
    "# print(type(code_maker))"
   ]
  },
  {
   "cell_type": "code",
   "execution_count": 7,
   "metadata": {},
   "outputs": [],
   "source": [
    "import re\n",
    "ndigits = len(re.findall('\\d', code_maker))\n",
    "# print(ndigits)"
   ]
  },
  {
   "cell_type": "markdown",
   "metadata": {},
   "source": [
    "#### Codebreaker"
   ]
  },
  {
   "cell_type": "code",
   "execution_count": 8,
   "metadata": {},
   "outputs": [
    {
     "name": "stdout",
     "output_type": "stream",
     "text": [
      "\n",
      "CODEBREAKER\n"
     ]
    },
    {
     "name": "stdin",
     "output_type": "stream",
     "text": [
      "\n",
      "Please insert a code of 4 digits:  1234\n"
     ]
    },
    {
     "name": "stdout",
     "output_type": "stream",
     "text": [
      "Codebreaker code (first choice): 1234\n"
     ]
    }
   ],
   "source": [
    "print('\\nCODEBREAKER')\n",
    "# Check that the code is composed only of numbers\n",
    "while True:\n",
    "    try:\n",
    "        code_breaker = str(input('\\nPlease insert a code of {} digits: '.format(ndigits)))\n",
    "        break\n",
    "    except:\n",
    "        pass   \n",
    "print(f'Codebreaker code (first choice): {code_breaker}')      "
   ]
  },
  {
   "cell_type": "markdown",
   "metadata": {},
   "source": [
    "#### The game"
   ]
  },
  {
   "cell_type": "code",
   "execution_count": 9,
   "metadata": {},
   "outputs": [
    {
     "name": "stdout",
     "output_type": "stream",
     "text": [
      "\n",
      "RULES MASTERMIND REVISITED > BULLS & COWS \n",
      "\n",
      "BULLS - letters correct in the right position\n",
      "COWS - letters correct but in the wrong position\n",
      "Duplicates are allowed. Blanks are NOT allowed \n",
      "\n"
     ]
    },
    {
     "name": "stdin",
     "output_type": "stream",
     "text": [
      "Choose another code:  1345\n"
     ]
    },
    {
     "name": "stdout",
     "output_type": "stream",
     "text": [
      "Number guessed [C]: 2 \n",
      "Numbers + positions guessed [B]: 0\n"
     ]
    },
    {
     "name": "stdin",
     "output_type": "stream",
     "text": [
      "Choose another code:  4566\n"
     ]
    },
    {
     "name": "stdout",
     "output_type": "stream",
     "text": [
      "Number guessed [C]: 1 \n",
      "Numbers + positions guessed [B]: 0\n"
     ]
    },
    {
     "name": "stdin",
     "output_type": "stream",
     "text": [
      "Choose another code:  5011\n"
     ]
    },
    {
     "name": "stdout",
     "output_type": "stream",
     "text": [
      "Congratulations! You guess the code in 3 attempts\n"
     ]
    }
   ],
   "source": [
    "print('\\nRULES MASTERMIND REVISITED > BULLS & COWS \\n')\n",
    "print('BULLS - letters correct in the right position')\n",
    "print('COWS - letters correct but in the wrong position')\n",
    "print('Duplicates are allowed. Blanks are NOT allowed \\n')\n",
    "\n",
    "\n",
    "attempt = 1\n",
    "while attempt<(max_attempts):\n",
    "        # counter of attempts\n",
    "        code_breaker = input('Choose another code: ')\n",
    "        if code_breaker != code_maker:\n",
    "            num = 0\n",
    "            num_pos = 0\n",
    "\n",
    "            for x in range(4):\n",
    "                # cows\n",
    "                if code_breaker[x] in code_maker:\n",
    "                    num +=1\n",
    "                # bulls\n",
    "                if code_breaker[x] in code_maker and code_breaker[x] == code_maker[x]:\n",
    "                    num_pos +=1\n",
    "\n",
    "            print('Number guessed [C]: {} \\nNumbers + positions guessed [B]: {}'.format(num,num_pos))     \n",
    "            attempt +=1\n",
    "\n",
    "        else:\n",
    "            print('Congratulations! You guess the code in {} attempts'.format(attempt)) \n",
    "            break\n",
    "else:\n",
    "    print('Sorry! You have reached the maximum number of attempts. The codemaker wins!')"
   ]
  },
  {
   "cell_type": "code",
   "execution_count": null,
   "metadata": {},
   "outputs": [],
   "source": []
  }
 ],
 "metadata": {
  "kernelspec": {
   "display_name": "Python 3",
   "language": "python",
   "name": "python3"
  },
  "language_info": {
   "codemirror_mode": {
    "name": "ipython",
    "version": 3
   },
   "file_extension": ".py",
   "mimetype": "text/x-python",
   "name": "python",
   "nbconvert_exporter": "python",
   "pygments_lexer": "ipython3",
   "version": "3.7.4"
  }
 },
 "nbformat": 4,
 "nbformat_minor": 4
}
