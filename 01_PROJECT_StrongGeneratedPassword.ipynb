{
 "cells": [
  {
   "cell_type": "markdown",
   "metadata": {},
   "source": [
    "# First, I import random"
   ]
  },
  {
   "cell_type": "code",
   "execution_count": 2,
   "metadata": {},
   "outputs": [],
   "source": [
    "import random"
   ]
  },
  {
   "cell_type": "markdown",
   "metadata": {},
   "source": [
    "# I create a string with all the digits that can be in the password"
   ]
  },
  {
   "cell_type": "code",
   "execution_count": 3,
   "metadata": {},
   "outputs": [],
   "source": [
    "digits = 'abcdefghijklmnopqrstuvwxyz1234567890ABCDEFGHIJKLMNOPQRSTUVWXYZ!@#$%&^_?¿'"
   ]
  },
  {
   "cell_type": "markdown",
   "metadata": {},
   "source": [
    "# Then, I create a def with an input in it that only takes integers, if not an integer, it asks again. This is to ask for how many password I need to create. "
   ]
  },
  {
   "cell_type": "code",
   "execution_count": 4,
   "metadata": {},
   "outputs": [
    {
     "name": "stdout",
     "output_type": "stream",
     "text": [
      "Number of passwords? - 3\n"
     ]
    },
    {
     "data": {
      "text/plain": [
       "3"
      ]
     },
     "execution_count": 4,
     "metadata": {},
     "output_type": "execute_result"
    }
   ],
   "source": [
    "def quantity():\n",
    " \n",
    "    while True:\n",
    "            x = input('Number of passwords? - ')\n",
    "            if x.isdigit():\n",
    "                x = int(x)\n",
    "                break\n",
    "            else:\n",
    "                print(\"This is not a number. Please write a number\")\n",
    "    return x\n",
    "quantity()"
   ]
  },
  {
   "cell_type": "markdown",
   "metadata": {},
   "source": [
    "# Same logic as before but here I want to define the length of the password. "
   ]
  },
  {
   "cell_type": "code",
   "execution_count": 10,
   "metadata": {},
   "outputs": [],
   "source": [
    "def length_pass():\n",
    "    \n",
    "    while True:\n",
    "        leng = input('Length of password? - ')\n",
    "        if leng.isdigit():\n",
    "            y = int(leng)\n",
    "            break\n",
    "        else:\n",
    "            print(\"This is not a number. Please write a number\")\n",
    "    return y\n"
   ]
  },
  {
   "cell_type": "code",
   "execution_count": 11,
   "metadata": {},
   "outputs": [
    {
     "name": "stdout",
     "output_type": "stream",
     "text": [
      "Length of password? - 7\n"
     ]
    },
    {
     "data": {
      "text/plain": [
       "7"
      ]
     },
     "execution_count": 11,
     "metadata": {},
     "output_type": "execute_result"
    }
   ],
   "source": [
    "length_pass()"
   ]
  },
  {
   "cell_type": "markdown",
   "metadata": {},
   "source": [
    "# Finally, I call random.choice to generate random passwords. "
   ]
  },
  {
   "cell_type": "code",
   "execution_count": 16,
   "metadata": {},
   "outputs": [],
   "source": [
    "def generate(x, leng):\n",
    "    \n",
    "    for i in range (int(x)):\n",
    "        password = ''\n",
    "        for x in range(leng):\n",
    "            password += random.choice(digits)\n",
    "        print(password)\n",
    "    \n",
    "   "
   ]
  },
  {
   "cell_type": "code",
   "execution_count": 17,
   "metadata": {},
   "outputs": [
    {
     "name": "stdout",
     "output_type": "stream",
     "text": [
      "Number of passwords? - 7\n",
      "Length of password? - 8\n",
      "LElwncIv\n",
      "WjUvwh3a\n",
      "zxTOb5YU\n",
      "yXokF!G2\n",
      "Jd%W!R8Z\n",
      "yDDAhthg\n",
      "JX?¿Po¿%\n"
     ]
    }
   ],
   "source": [
    "generate(quantity(), length_pass())"
   ]
  },
  {
   "cell_type": "markdown",
   "metadata": {},
   "source": [
    "# Here, we can create the passwords in a few steps."
   ]
  },
  {
   "cell_type": "code",
   "execution_count": 23,
   "metadata": {},
   "outputs": [
    {
     "name": "stdout",
     "output_type": "stream",
     "text": [
      "Choose your password:\n",
      "Number of passwords? - 6\n",
      "Length of password? - 8\n",
      "clRB6fPs\n",
      "VSF6FRns\n",
      "&lT1Zzu5\n",
      "WSY5D$D%\n",
      "yw5EuPgp\n",
      "72B?#L04\n"
     ]
    }
   ],
   "source": [
    "print('Choose your password:')\n",
    "generate(quantity(), length_pass())"
   ]
  },
  {
   "cell_type": "code",
   "execution_count": null,
   "metadata": {},
   "outputs": [],
   "source": []
  }
 ],
 "metadata": {
  "kernelspec": {
   "display_name": "Python 3",
   "language": "python",
   "name": "python3"
  },
  "language_info": {
   "codemirror_mode": {
    "name": "ipython",
    "version": 3
   },
   "file_extension": ".py",
   "mimetype": "text/x-python",
   "name": "python",
   "nbconvert_exporter": "python",
   "pygments_lexer": "ipython3",
   "version": "3.7.6"
  }
 },
 "nbformat": 4,
 "nbformat_minor": 4
}
