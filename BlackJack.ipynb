{
 "cells": [
  {
   "cell_type": "code",
   "execution_count": 40,
   "metadata": {},
   "outputs": [],
   "source": [
    "from random import shuffle\n",
    "\n",
    "class Card:\n",
    "    '''Represents a playing card, defined by a value and a suit.'''\n",
    "    \n",
    "    def get_values():\n",
    "        '''This function returns all the values a card can have\n",
    "            Input: None\n",
    "            Output: A list of string containg'''\n",
    "        \n",
    "        return ['A','2','3','4','5','6','7','8','9','10','J','Q','K']\n",
    "    \n",
    "    def get_suits():\n",
    "        ''' Returns all the suits a card can have\n",
    "        Input: None\n",
    "        Output: A list of strings containing the symbols of the possible suits'''\n",
    "        \n",
    "        return ['♠','♥','♣','♦']\n",
    "    \n",
    "    def __init__(self,value,suit):\n",
    "        self.value = value\n",
    "        self.suit = suit\n",
    "        \n",
    "    def __str__(self):\n",
    "        return '{}{}'.format(self.value,self.suit)\n",
    "    \n",
    "class CardPool:\n",
    "    \n",
    "    def __init__(self,numberOfDecks=4):\n",
    "        self.cards = []\n",
    "        for n in range(numberOfDecks):\n",
    "            for value in Card.get_values():\n",
    "                for suit in Card.get_suits():\n",
    "                    self.cards.append(Card(value,suit))\n",
    "        self.shuffle_cards()\n",
    "        \n",
    "    def shuffle_cards(self):\n",
    "        '''Puts the contents in cards in random order\n",
    "        Input: None\n",
    "        Output: None'''\n",
    "        \n",
    "        shuffle(self.cards)\n",
    "        \n",
    "    def remove_top_deck(self):\n",
    "        '''This method returns the card at the top of the deck\n",
    "            Input: None\n",
    "            Output: The card on position 0 of the cards list'''\n",
    "        \n",
    "        return self.cards.pop(0)\n",
    "        \n",
    "    def __str__(self):\n",
    "        return '[{}]'.format(', '.join(map(str, self.cards)))\n",
    "    \n",
    "class Table:\n",
    "    def __init__(self, playerName, decksUsed=6, dealerstopS17=False):\n",
    "        self.players = [Player(playerName)]\n",
    "        self.dealer = Dealer()\n",
    "        self.dealerStopsAtS17 = dealerstopS17\n",
    "        self.card_pool = CardPool()\n",
    "\n",
    "    def hit_me(self, player):\n",
    "        player.add_card_to_hand(self.card_pool.remove_top_deck())\n",
    "\n",
    "    def play_round(self):\n",
    "        playing_players = self.enter_bets()\n",
    "        print(playing_players)\n",
    "        self.give_cards()\n",
    "        for player in playing_players:\n",
    "            play_hand(player)\n",
    "\n",
    "    def enter_bets(self):\n",
    "        return [(player.name, self.input_bet_amount(player)) for player in self.players]\n",
    "\n",
    "    def input_bet_amount(self, player):\n",
    "            if player.is_human:\n",
    "                try:\n",
    "                    bet_amount = int(input(f\"Which amount would you like to bet? Stack: {player.stack}€\"))\n",
    "                except Exception:\n",
    "                    print('A problem ocurred, please re-enter the amount you would like to')\n",
    "                    bet_amount = 0\n",
    "                if bet_amount <= 0:\n",
    "                    bet_amount = 0\n",
    "                if bet_amount > player.stack:\n",
    "                    bet_amount = player.stack\n",
    "                return bet_amount\n",
    "            else:\n",
    "                print(\"To be done\")\n",
    "\n",
    "class Player:\n",
    "    def __init__(self,name,stack=500,is_human = True):\n",
    "        self.name = name\n",
    "        self.stack = stack\n",
    "        self.hand = []\n",
    "        self.amount_bet = 0\n",
    "        self.hand_eval = 0\n",
    "        self.is_human = is_human\n",
    "    def __str__(self):\n",
    "        return '{} {}€'.format(self.name,self.stack)\n",
    "    \n",
    "    def print_hand(self):\n",
    "        print(f\"{self.name}:{[str(card) for card in self.hand]} = {self.hand_eval}\\n\")\n",
    "        \n",
    "    def add_card_to_hand(self,card):\n",
    "        self.hand.append(card)\n",
    "        self.update_hand_eval()\n",
    "        \n",
    "    def update_hand_eval(self):\n",
    "        \n",
    "    \n",
    "class Dealer(Player):\n",
    "    def __init__(self):\n",
    "        super().__init__(name='Dealer')\n",
    "        self.hand = []\n",
    "        self.is_human = False\n",
    "        self.stack = '999999999999999'"
   ]
  },
  {
   "cell_type": "code",
   "execution_count": 11,
   "metadata": {},
   "outputs": [],
   "source": [
    "def main():\n",
    "    name = input('Welcome to Ironhack Blackjack table! Nice to have you here, please enter your name.\\n')\n",
    "    while not name:\n",
    "        playerName = input('The input you submitted was invalid, please re-enter a valid name.\\n')\n",
    "    start_menu = eval(input('What would you like to do?\\n1 - Play\\n2 - See my scores \\n3 - Close game'))\n",
    "    while start_menu not in [1,2,3]:\n",
    "        start_menu = eval(input('Last input didnt fit the correct parameters\\nWhat would you like to do?\\n1 - Play\\n2 - See my scores \\n3 - Close game'))\n",
    "    if start_menu == 1:\n",
    "        table = Table(playerName=name)\n",
    "        rounds_played = 0\n",
    "        another_round = int(input('Would you like to play a round?\\n0-No\\n1-Yes\\n'))\n",
    "        while another_round:\n",
    "            table.play_round()\n",
    "    if start_menu == 2:\n",
    "        print('PENDING TO BE DONE')\n",
    "    if start_menu == 3:\n",
    "        print('Thanks for playing in the Ironhack blacjack table, we hope you enjoyed your time here!')"
   ]
  },
  {
   "cell_type": "code",
   "execution_count": 45,
   "metadata": {},
   "outputs": [
    {
     "data": {
      "text/plain": [
       "[<__main__.Player at 0x24ed05314c8>]"
      ]
     },
     "execution_count": 45,
     "metadata": {},
     "output_type": "execute_result"
    }
   ],
   "source": [
    "table = Table('alex')\n",
    "table.players"
   ]
  },
  {
   "cell_type": "code",
   "execution_count": 43,
   "metadata": {},
   "outputs": [
    {
     "name": "stdout",
     "output_type": "stream",
     "text": [
      "alex:['9♠', 'Q♠']\n",
      "\n"
     ]
    }
   ],
   "source": [
    "table.hit_me(table.players[0])\n",
    "table.players[0].print_hand()"
   ]
  },
  {
   "cell_type": "code",
   "execution_count": 33,
   "metadata": {},
   "outputs": [
    {
     "name": "stdout",
     "output_type": "stream",
     "text": [
      "[8♦, 10♣, 6♦, 6♠, 9♦, 10♠, 2♥, J♣, 8♣, 9♦, K♥, 6♥, Q♣, J♥, 9♠, 10♥, J♣, 2♠, Q♣, A♦, 4♦, 6♥, K♥, Q♦, 2♥, 3♣, A♠, Q♦, 2♣, 5♥, 4♦, 9♥, 7♣, Q♥, 5♠, K♥, 8♣, 4♥, A♥, 6♠, 7♥, 4♠, A♦, 8♥, 8♦, 2♠, 9♣, 7♦, A♠, 10♥, 10♦, A♥, 4♠, J♠, Q♠, 5♦, 6♦, J♣, 3♦, 8♠, 2♦, 6♥, 10♠, 7♠, A♠, 3♣, K♦, 7♦, Q♥, K♦, 9♠, 7♠, 6♣, A♣, 10♣, 10♠, A♣, 9♥, 2♣, 6♠, 7♥, Q♠, 5♦, 5♣, 7♣, 10♣, Q♥, J♥, J♦, 5♣, 10♦, 4♥, 4♦, 7♣, 5♣, 3♦, J♠, 5♦, Q♠, K♠, 8♥, 9♣, A♦, 5♠, 8♠, J♦, 4♥, 9♠, 3♠, 3♣, 5♥, 2♦, J♦, 9♣, 9♦, 8♣, 3♦, 10♥, 5♥, 6♣, 2♣, 2♥, 8♥, 7♥, J♥, Q♣, 3♥, 4♣, 6♦, 8♦, K♠, 3♥, 2♠, J♠, 9♥, 4♠, 4♣, Q♦, A♣, A♥, K♠, 5♠, 4♣, 6♣, K♣, 2♦, K♣, 7♦, 3♥, K♣, 10♦, K♦, 3♠, 7♠, 8♠, 3♠]\n"
     ]
    }
   ],
   "source": [
    "print(CardPool(3))"
   ]
  },
  {
   "cell_type": "code",
   "execution_count": null,
   "metadata": {},
   "outputs": [],
   "source": []
  }
 ],
 "metadata": {
  "kernelspec": {
   "display_name": "Python 3",
   "language": "python",
   "name": "python3"
  },
  "language_info": {
   "codemirror_mode": {
    "name": "ipython",
    "version": 3
   },
   "file_extension": ".py",
   "mimetype": "text/x-python",
   "name": "python",
   "nbconvert_exporter": "python",
   "pygments_lexer": "ipython3",
   "version": "3.7.4"
  }
 },
 "nbformat": 4,
 "nbformat_minor": 2
}
