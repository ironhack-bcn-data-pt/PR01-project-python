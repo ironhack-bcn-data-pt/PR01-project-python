{
 "cells": [
  {
   "cell_type": "markdown",
   "metadata": {},
   "source": [
    "## I am going to import all the tools that I will use during this project"
   ]
  },
  {
   "cell_type": "code",
   "execution_count": 1,
   "metadata": {},
   "outputs": [],
   "source": [
    "import random as rd"
   ]
  },
  {
   "cell_type": "markdown",
   "metadata": {},
   "source": []
  },
  {
   "cell_type": "markdown",
   "metadata": {},
   "source": [
    "## First, I need to create a list that contains all the characters that I want into my password"
   ]
  },
  {
   "cell_type": "code",
   "execution_count": 2,
   "metadata": {},
   "outputs": [],
   "source": [
    "digit1=[\"abcdefghijklmnopqrstuvwxyz\",\"0123456789\",\"ABCDEFGHIJKLMNOPQRSTUVWXYZ\",\"@#%$&*-_\"]"
   ]
  },
  {
   "cell_type": "code",
   "execution_count": 3,
   "metadata": {},
   "outputs": [],
   "source": [
    "def f_usuario():\n",
    "    user=input(\"Please intruduce your user name \")\n",
    "    \n",
    "    return user\n"
   ]
  },
  {
   "cell_type": "markdown",
   "metadata": {},
   "source": [
    "## Second, I need to create a function to ask for the length of the password"
   ]
  },
  {
   "cell_type": "code",
   "execution_count": 14,
   "metadata": {},
   "outputs": [
    {
     "name": "stdout",
     "output_type": "stream",
     "text": [
      "Please choose the length of your password\n",
      "Password length? 12\n"
     ]
    }
   ],
   "source": [
    "def f_len():\n",
    "    print(\"Please choose the length of your password\")\n",
    "    number_len =int(0)\n",
    "    while number_len < 4 or number_len > 12:     \n",
    "        try:\n",
    "            number_len = int(input(\"Password length? \"))\n",
    "        except ValueError:\n",
    "            print(\"You can not choose a string\")\n",
    "        \n",
    "    return int(number_len)\n",
    "\n",
    "lenght = f_len()\n"
   ]
  },
  {
   "cell_type": "markdown",
   "metadata": {},
   "source": [
    "## Third,I created a function that generates a password and convert to list to shuffle and after converting again to the string"
   ]
  },
  {
   "cell_type": "code",
   "execution_count": 15,
   "metadata": {},
   "outputs": [
    {
     "data": {
      "text/plain": [
       "'aC5I-&W59r&t'"
      ]
     },
     "execution_count": 15,
     "metadata": {},
     "output_type": "execute_result"
    }
   ],
   "source": [
    "def f_password():\n",
    "    password= \"\"\n",
    "    for c in range(lenght):\n",
    "        password +=rd.choice(digit1[c%len(digit1)])\n",
    "    password=list(password)\n",
    "    rd.shuffle(password)\n",
    "    password1= \"\"\n",
    "            \n",
    "    return password1.join(password)\n",
    "\n",
    "password=f_password()\n",
    "\n",
    "password"
   ]
  },
  {
   "cell_type": "markdown",
   "metadata": {},
   "source": [
    "## Finally, I created a main function to show the program"
   ]
  },
  {
   "cell_type": "code",
   "execution_count": 16,
   "metadata": {},
   "outputs": [
    {
     "name": "stdout",
     "output_type": "stream",
     "text": [
      "Welcome to your password generator\n",
      "Your password will be generated with upper and lower letters, special characters and numbers\n",
      "You can choose the length of your password between 4 and 12 characters\n",
      " \n",
      "Please intruduce your user name aaron\n",
      "Confirmation for the user : aaron, the password is generated : aC5I-&W59r&t\n"
     ]
    }
   ],
   "source": [
    "def main():\n",
    "    print(\"Welcome to your password generator\")\n",
    "    print(\"Your password will be generated with upper and lower letters, special characters and numbers\")\n",
    "    print(\"You can choose the length of your password between 4 and 12 characters\")\n",
    "    print(\" \")\n",
    "    usuario= f_usuario()\n",
    "    \n",
    "    print(f\"Confirmation for the user : {usuario}, the password is generated : {password}\")\n",
    "    return \n",
    "main()"
   ]
  }
 ],
 "metadata": {
  "kernelspec": {
   "display_name": "Python 3",
   "language": "python",
   "name": "python3"
  },
  "language_info": {
   "codemirror_mode": {
    "name": "ipython",
    "version": 3
   },
   "file_extension": ".py",
   "mimetype": "text/x-python",
   "name": "python",
   "nbconvert_exporter": "python",
   "pygments_lexer": "ipython3",
   "version": "3.7.6"
  }
 },
 "nbformat": 4,
 "nbformat_minor": 4
}
